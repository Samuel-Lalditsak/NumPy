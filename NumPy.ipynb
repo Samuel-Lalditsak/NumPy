{
 "cells": [
  {
   "cell_type": "markdown",
   "metadata": {},
   "source": [
    "### 1. Create a null vector of size 10 but the fifth value which is 1."
   ]
  },
  {
   "cell_type": "code",
   "execution_count": 1,
   "metadata": {},
   "outputs": [
    {
     "name": "stdout",
     "output_type": "stream",
     "text": [
      "[0. 0. 0. 0. 1. 0. 0. 0. 0. 0.]\n"
     ]
    }
   ],
   "source": [
    "import numpy as np\n",
    "\n",
    "arr = np.zeros(10)\n",
    "arr[4] = 1\n",
    "print(arr)"
   ]
  },
  {
   "cell_type": "markdown",
   "metadata": {},
   "source": [
    "### 2. Create a vector with values ranging from 10 to 49."
   ]
  },
  {
   "cell_type": "code",
   "execution_count": 2,
   "metadata": {},
   "outputs": [
    {
     "name": "stdout",
     "output_type": "stream",
     "text": [
      "[10. 11. 12. 13. 14. 15. 16. 17. 18. 19. 20. 21. 22. 23. 24. 25. 26. 27.\n",
      " 28. 29. 30. 31. 32. 33. 34. 35. 36. 37. 38. 39. 40. 41. 42. 43. 44. 45.\n",
      " 46. 47. 48. 49.]\n"
     ]
    }
   ],
   "source": [
    "import numpy as np\n",
    "\n",
    "vector = np.linspace(10, 49, 40)\n",
    "print(vector)"
   ]
  },
  {
   "cell_type": "markdown",
   "metadata": {},
   "source": [
    "### 3. Create a 3x3 matrix with values ranging from 0 to 8"
   ]
  },
  {
   "cell_type": "code",
   "execution_count": 3,
   "metadata": {},
   "outputs": [
    {
     "name": "stdout",
     "output_type": "stream",
     "text": [
      "[[0 1 2]\n",
      " [3 4 5]\n",
      " [6 7 8]]\n"
     ]
    }
   ],
   "source": [
    "import numpy as np\n",
    "\n",
    "arr = np.arange(9)\n",
    "matrix = arr.reshape(3, 3)\n",
    "print(matrix)"
   ]
  },
  {
   "cell_type": "markdown",
   "metadata": {},
   "source": [
    "### 4. Find indices of non-zero elements from [1,2,0,0,4,0]"
   ]
  },
  {
   "cell_type": "code",
   "execution_count": 4,
   "metadata": {},
   "outputs": [
    {
     "name": "stdout",
     "output_type": "stream",
     "text": [
      "(array([0, 1, 4]),)\n"
     ]
    }
   ],
   "source": [
    "import numpy as np\n",
    "\n",
    "arr = np.array([1, 2, 0, 0, 4, 0])\n",
    "non_zero_indices = np.nonzero(arr)\n",
    "print(non_zero_indices)"
   ]
  },
  {
   "cell_type": "markdown",
   "metadata": {},
   "source": [
    "### 5. Create a 10x10 array with random values and find the minimum and maximum values."
   ]
  },
  {
   "cell_type": "code",
   "execution_count": 5,
   "metadata": {},
   "outputs": [
    {
     "name": "stdout",
     "output_type": "stream",
     "text": [
      "Array:\n",
      "[[0.57659324 0.84250248 0.83124023 0.19818974 0.37686345 0.10310596\n",
      "  0.21366995 0.34749538 0.17158043 0.96509046]\n",
      " [0.09617587 0.24189681 0.78295068 0.21045482 0.45678562 0.73343147\n",
      "  0.72080928 0.5588876  0.96701566 0.5584737 ]\n",
      " [0.986222   0.07446528 0.96456923 0.40433001 0.72530677 0.00143174\n",
      "  0.98703591 0.92141122 0.70793916 0.03333667]\n",
      " [0.63828376 0.48614105 0.9188682  0.55549268 0.17719963 0.38737034\n",
      "  0.41359647 0.64802787 0.88579672 0.3367599 ]\n",
      " [0.52427508 0.66294617 0.07424295 0.52031389 0.01638997 0.48857264\n",
      "  0.89946003 0.05912217 0.49417826 0.38846782]\n",
      " [0.26364269 0.64744128 0.93881704 0.82784362 0.10718213 0.62026663\n",
      "  0.14159497 0.02084312 0.73332505 0.66063033]\n",
      " [0.47835145 0.59480746 0.64579321 0.47587232 0.16595296 0.65560091\n",
      "  0.30231899 0.16748392 0.39483565 0.38170644]\n",
      " [0.87999216 0.31022635 0.65325732 0.82776384 0.44745734 0.42548906\n",
      "  0.75744979 0.30862783 0.41340728 0.29598829]\n",
      " [0.14731134 0.11153422 0.15357084 0.00569732 0.49623645 0.30835534\n",
      "  0.28294208 0.34043249 0.15556628 0.18196938]\n",
      " [0.12237993 0.88108331 0.22307251 0.78500119 0.99479162 0.14475895\n",
      "  0.7501113  0.07054284 0.93175392 0.82413397]]\n",
      "\n",
      "Minimum value:  0.0014317371866146011\n",
      "Maximum value:  0.9947916222319058\n"
     ]
    }
   ],
   "source": [
    "import numpy as np\n",
    "\n",
    "arr = np.random.rand(10, 10)\n",
    "min_val = np.min(arr)\n",
    "max_val = np.max(arr)\n",
    "\n",
    "print(\"Array:\")\n",
    "print(arr)\n",
    "print(\"\\nMinimum value: \", min_val)\n",
    "print(\"Maximum value: \", max_val)"
   ]
  },
  {
   "cell_type": "markdown",
   "metadata": {},
   "source": [
    "### 6. Create a random vector of size 30 and find the mean value."
   ]
  },
  {
   "cell_type": "code",
   "execution_count": 6,
   "metadata": {},
   "outputs": [
    {
     "name": "stdout",
     "output_type": "stream",
     "text": [
      "Vector:\n",
      "[0.39938137 0.00331363 0.38603153 0.69635739 0.84267884 0.46724564\n",
      " 0.98314373 0.85492494 0.75537434 0.87418652 0.51034219 0.09539005\n",
      " 0.95661494 0.33293993 0.90502757 0.0514077  0.58356567 0.48160569\n",
      " 0.32764577 0.75229876 0.84948139 0.33423127 0.23657562 0.5952562\n",
      " 0.40620028 0.2680548  0.41345462 0.11998843 0.43358936 0.35190569]\n",
      "\n",
      "Mean value:  0.5089404627680201\n"
     ]
    }
   ],
   "source": [
    "import numpy as np\n",
    "\n",
    "vec = np.random.rand(30)\n",
    "mean_val = np.mean(vec)\n",
    "\n",
    "print(\"Vector:\")\n",
    "print(vec)\n",
    "print(\"\\nMean value: \", mean_val)"
   ]
  }
 ],
 "metadata": {
  "kernelspec": {
   "display_name": "Python 3",
   "language": "python",
   "name": "python3"
  },
  "language_info": {
   "codemirror_mode": {
    "name": "ipython",
    "version": 3
   },
   "file_extension": ".py",
   "mimetype": "text/x-python",
   "name": "python",
   "nbconvert_exporter": "python",
   "pygments_lexer": "ipython3",
   "version": "3.11.4"
  }
 },
 "nbformat": 4,
 "nbformat_minor": 2
}
